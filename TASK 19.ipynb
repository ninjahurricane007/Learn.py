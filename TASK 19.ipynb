{
  "nbformat": 4,
  "nbformat_minor": 0,
  "metadata": {
    "colab": {
      "name": "TASK 19.ipynb",
      "provenance": [],
      "include_colab_link": true
    },
    "kernelspec": {
      "name": "python3",
      "display_name": "Python 3"
    },
    "language_info": {
      "name": "python"
    }
  },
  "cells": [
    {
      "cell_type": "markdown",
      "metadata": {
        "id": "view-in-github",
        "colab_type": "text"
      },
      "source": [
        "<a href=\"https://colab.research.google.com/github/ninjahurricane007/Learn.py/blob/main/TASK%2019.ipynb\" target=\"_parent\"><img src=\"https://colab.research.google.com/assets/colab-badge.svg\" alt=\"Open In Colab\"/></a>"
      ]
    },
    {
      "cell_type": "markdown",
      "metadata": {
        "id": "6J-6GvX2JUcC"
      },
      "source": [
        "1. Create a DataFrame by passing a random numpy array,with a dateted index and labelled columns and display,\n",
        "  - where values of the column A is greater than 0.\n",
        "  - where values of the columns A is greater than 0 and B greater than -1.\n",
        "  - where values of the columns A  is greater than 0 or B greater than -1.\n"
      ]
    },
    {
      "cell_type": "code",
      "metadata": {
        "id": "xX-5VikpLcHL",
        "outputId": "a967f94a-0f81-4f47-8579-d8765802cccc",
        "colab": {
          "base_uri": "https://localhost:8080/"
        }
      },
      "source": [
        "#please type your code below this line.\n",
        "import numpy as np\n",
        "import pandas as pd\n",
        "dates=pd.date_range(\"20210101\", periods=6)\n",
        "df=pd.DataFrame(np.random.rand(6,4) ,index=dates, columns=list('ABCD'))\n",
        "print(df)\n",
        "a=df.iloc[:,0:1]\n",
        "print(a[(a['A']>0)])\n",
        "b=df.iloc[:,0:2]\n",
        "print(b[(b['A']>0) & (b['B']>-1)])\n",
        "print(b[(b['A']>0) | (b['B']>-1)])"
      ],
      "execution_count": 2,
      "outputs": [
        {
          "output_type": "stream",
          "name": "stdout",
          "text": [
            "                   A         B         C         D\n",
            "2021-01-01  0.405138  0.600288  0.314498  0.737370\n",
            "2021-01-02  0.938827  0.196740  0.015298  0.815995\n",
            "2021-01-03  0.159971  0.663085  0.462976  0.452722\n",
            "2021-01-04  0.103533  0.688309  0.691221  0.665368\n",
            "2021-01-05  0.668620  0.948463  0.523505  0.641512\n",
            "2021-01-06  0.627998  0.588336  0.137234  0.945963\n",
            "                   A\n",
            "2021-01-01  0.405138\n",
            "2021-01-02  0.938827\n",
            "2021-01-03  0.159971\n",
            "2021-01-04  0.103533\n",
            "2021-01-05  0.668620\n",
            "2021-01-06  0.627998\n",
            "                   A         B\n",
            "2021-01-01  0.405138  0.600288\n",
            "2021-01-02  0.938827  0.196740\n",
            "2021-01-03  0.159971  0.663085\n",
            "2021-01-04  0.103533  0.688309\n",
            "2021-01-05  0.668620  0.948463\n",
            "2021-01-06  0.627998  0.588336\n",
            "                   A         B\n",
            "2021-01-01  0.405138  0.600288\n",
            "2021-01-02  0.938827  0.196740\n",
            "2021-01-03  0.159971  0.663085\n",
            "2021-01-04  0.103533  0.688309\n",
            "2021-01-05  0.668620  0.948463\n",
            "2021-01-06  0.627998  0.588336\n"
          ]
        }
      ]
    },
    {
      "cell_type": "markdown",
      "metadata": {
        "id": "1WAf9SbwLp6o"
      },
      "source": [
        "2. Create a DataFrame by passing a random numpy array,with a dateted index and labelled columns and check if ,\n",
        "  - the values of the table are greater the zero or not.\n",
        "  - the value at the postion (0,0) is equal to NaN or not."
      ]
    },
    {
      "cell_type": "code",
      "metadata": {
        "id": "rBrt8pMeM2Q5",
        "outputId": "2e4055d2-6487-4a01-b55c-fb0d13fb38ed",
        "colab": {
          "base_uri": "https://localhost:8080/"
        }
      },
      "source": [
        "#please type your code below this line.\n",
        "import numpy as np\n",
        "import pandas as pd\n",
        "dates=pd.date_range(\"20210101\", periods=6)\n",
        "df=pd.DataFrame(np.random.rand(6,4) ,index=dates, columns=list('ABCD'))\n",
        "print(df)\n",
        "print(df.ge(0))\n",
        "a=df.iloc[:,0:1]\n",
        "b=a.iloc[0:1,:]\n",
        "print(b.isnull())"
      ],
      "execution_count": 3,
      "outputs": [
        {
          "output_type": "stream",
          "name": "stdout",
          "text": [
            "                   A         B         C         D\n",
            "2021-01-01  0.753742  0.159460  0.233199  0.831472\n",
            "2021-01-02  0.057051  0.488834  0.453589  0.805039\n",
            "2021-01-03  0.373343  0.817943  0.432018  0.965198\n",
            "2021-01-04  0.903755  0.914212  0.580556  0.087001\n",
            "2021-01-05  0.656724  0.430434  0.231967  0.592387\n",
            "2021-01-06  0.514829  0.517057  0.158050  0.322549\n",
            "               A     B     C     D\n",
            "2021-01-01  True  True  True  True\n",
            "2021-01-02  True  True  True  True\n",
            "2021-01-03  True  True  True  True\n",
            "2021-01-04  True  True  True  True\n",
            "2021-01-05  True  True  True  True\n",
            "2021-01-06  True  True  True  True\n",
            "                A\n",
            "2021-01-01  False\n"
          ]
        }
      ]
    },
    {
      "cell_type": "markdown",
      "metadata": {
        "id": "IfM9XYmiNaKB"
      },
      "source": [
        "3. Create a DataFrame by passing a random numpy array,with a dateted index and labelled columns and,\n",
        "  - reindex the index with even dates.\n",
        "  - create a column with values NaN.\n",
        "  - make the values of the first two index of the newly created column as 1"
      ]
    },
    {
      "cell_type": "code",
      "metadata": {
        "id": "F-w8kEfaORg3",
        "outputId": "0f799427-49b6-40bb-9736-795da38d6dbf",
        "colab": {
          "base_uri": "https://localhost:8080/"
        }
      },
      "source": [
        "#please type your answer below this line.\n",
        "import numpy as np\n",
        "import pandas as pd\n",
        "dates=pd.date_range(\"20210101\", periods=6)\n",
        "df=pd.DataFrame(np.random.rand(6,4) ,index=dates, columns=list('ABCD'))\n",
        "print(df)\n",
        "dates=pd.date_range(start ='01-02-2021', \n",
        "            end ='01-12-2021', periods = 6)\n",
        "df=pd.DataFrame(np.random.rand(6,4) ,index=dates, columns=list('ABCD'))\n",
        "print (df)\n",
        "df[\"E\"]=np.nan\n",
        "print (df)\n",
        "df.at[dates[0],'E']=1\n",
        "df.at[dates[1],'E']=1\n",
        "print (df)"
      ],
      "execution_count": 30,
      "outputs": [
        {
          "output_type": "stream",
          "name": "stdout",
          "text": [
            "                   A         B         C         D\n",
            "2021-01-01  0.175057  0.090670  0.350023  0.022228\n",
            "2021-01-02  0.758126  0.024780  0.174269  0.916862\n",
            "2021-01-03  0.821432  0.922429  0.000145  0.419415\n",
            "2021-01-04  0.860333  0.658086  0.750279  0.137004\n",
            "2021-01-05  0.410673  0.066753  0.100114  0.081556\n",
            "2021-01-06  0.940248  0.539410  0.070187  0.446245\n",
            "                   A         B         C         D\n",
            "2021-01-02  0.079748  0.459966  0.329853  0.165390\n",
            "2021-01-04  0.249359  0.844624  0.493554  0.027354\n",
            "2021-01-06  0.959031  0.905280  0.339387  0.539800\n",
            "2021-01-08  0.644879  0.413940  0.392969  0.549509\n",
            "2021-01-10  0.495748  0.420139  0.762628  0.510686\n",
            "2021-01-12  0.499618  0.621338  0.697823  0.252695\n",
            "                   A         B         C         D   E\n",
            "2021-01-02  0.079748  0.459966  0.329853  0.165390 NaN\n",
            "2021-01-04  0.249359  0.844624  0.493554  0.027354 NaN\n",
            "2021-01-06  0.959031  0.905280  0.339387  0.539800 NaN\n",
            "2021-01-08  0.644879  0.413940  0.392969  0.549509 NaN\n",
            "2021-01-10  0.495748  0.420139  0.762628  0.510686 NaN\n",
            "2021-01-12  0.499618  0.621338  0.697823  0.252695 NaN\n",
            "                   A         B         C         D    E\n",
            "2021-01-02  0.079748  0.459966  0.329853  0.165390  1.0\n",
            "2021-01-04  0.249359  0.844624  0.493554  0.027354  1.0\n",
            "2021-01-06  0.959031  0.905280  0.339387  0.539800  NaN\n",
            "2021-01-08  0.644879  0.413940  0.392969  0.549509  NaN\n",
            "2021-01-10  0.495748  0.420139  0.762628  0.510686  NaN\n",
            "2021-01-12  0.499618  0.621338  0.697823  0.252695  NaN\n"
          ]
        }
      ]
    }
  ]
}