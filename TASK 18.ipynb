{
  "nbformat": 4,
  "nbformat_minor": 0,
  "metadata": {
    "colab": {
      "name": "TASK 18.ipynb",
      "provenance": [],
      "include_colab_link": true
    },
    "kernelspec": {
      "name": "python3",
      "display_name": "Python 3"
    },
    "language_info": {
      "name": "python"
    }
  },
  "cells": [
    {
      "cell_type": "markdown",
      "metadata": {
        "id": "view-in-github",
        "colab_type": "text"
      },
      "source": [
        "<a href=\"https://colab.research.google.com/github/ninjahurricane007/Learn.py/blob/main/TASK%2018.ipynb\" target=\"_parent\"><img src=\"https://colab.research.google.com/assets/colab-badge.svg\" alt=\"Open In Colab\"/></a>"
      ]
    },
    {
      "cell_type": "markdown",
      "metadata": {
        "id": "_JgXT8pEAjU4"
      },
      "source": [
        "1. \n",
        "Create a DataFrame by passing a random numpy array,with a datetie index and labelled columns.and,\n",
        "    - slice its first three rows and display.\n",
        "    - slice its odd indexed rows.\n",
        "    - display the dates from 1st postion to 4 th position."
      ]
    },
    {
      "cell_type": "code",
      "metadata": {
        "id": "5zFM5VOJBKBV",
        "outputId": "be1135c0-4536-47f9-c5b0-1ec993e750ea",
        "colab": {
          "base_uri": "https://localhost:8080/"
        }
      },
      "source": [
        "#please provide your answer below this line.\n",
        "import numpy as np\n",
        "import pandas as pd\n",
        "dates=pd.date_range(\"20210101\", periods=6)\n",
        "df=pd.DataFrame(np.random.rand(6,4) ,index=dates, columns=list('ABCD'))\n",
        "print(df)\n",
        "print(\" \")\n",
        "print(df.iloc[0:3])\n",
        "print(\" \")\n",
        "print(df.iloc[0::2])\n",
        "print(\" \")\n",
        "print(df.index[0:4])"
      ],
      "execution_count": 1,
      "outputs": [
        {
          "output_type": "stream",
          "name": "stdout",
          "text": [
            "                   A         B         C         D\n",
            "2021-01-01  0.309532  0.543148  0.745938  0.132150\n",
            "2021-01-02  0.425256  0.224783  0.329544  0.896767\n",
            "2021-01-03  0.137910  0.717261  0.419671  0.221139\n",
            "2021-01-04  0.687061  0.498406  0.081722  0.711266\n",
            "2021-01-05  0.102457  0.749256  0.495911  0.540385\n",
            "2021-01-06  0.528213  0.243700  0.105637  0.364366\n",
            " \n",
            "                   A         B         C         D\n",
            "2021-01-01  0.309532  0.543148  0.745938  0.132150\n",
            "2021-01-02  0.425256  0.224783  0.329544  0.896767\n",
            "2021-01-03  0.137910  0.717261  0.419671  0.221139\n",
            " \n",
            "                   A         B         C         D\n",
            "2021-01-01  0.309532  0.543148  0.745938  0.132150\n",
            "2021-01-03  0.137910  0.717261  0.419671  0.221139\n",
            "2021-01-05  0.102457  0.749256  0.495911  0.540385\n",
            " \n",
            "DatetimeIndex(['2021-01-01', '2021-01-02', '2021-01-03', '2021-01-04'], dtype='datetime64[ns]', freq='D')\n"
          ]
        }
      ]
    },
    {
      "cell_type": "markdown",
      "metadata": {
        "id": "QuoucvjxBPmX"
      },
      "source": [
        "2. Create a DataFrame by passing a random numpy array,with a datetie index and labelled columns.and\n",
        "  - Dislplay the index from the 1 to 3 date and the columns A and B of respective data.\n",
        "  - Display the datas at the 3rd index.\n",
        "  - Display datas from 2nd to 5th.\n",
        "  - Display the datas from the index 1,2,4 and the column 0 and 2."
      ]
    },
    {
      "cell_type": "code",
      "metadata": {
        "id": "qV_wzsp1DUKI",
        "outputId": "6d8265d2-99a6-4623-dae6-cb6d72c719f8",
        "colab": {
          "base_uri": "https://localhost:8080/"
        }
      },
      "source": [
        "#please provide your answer below thins line.\n",
        "import numpy as np\n",
        "import pandas as pd\n",
        "dates=pd.date_range(\"20210101\", periods=6)\n",
        "df=pd.DataFrame(np.random.rand(6,4) ,index=dates, columns=list('ABCD'))\n",
        "print(df)\n",
        "print(\" \")\n",
        "a=df.head(3)\n",
        "print(a.iloc[:,0:2])\n",
        "print(\" \")\n",
        "print(df.iloc[[2]])\n",
        "print(\" \")\n",
        "print(df.iloc[1:5, :])\n",
        "print(\" \")\n",
        "b=df.iloc[:, [0,2]]\n",
        "print(b.iloc[[0,1,3], :])"
      ],
      "execution_count": 9,
      "outputs": [
        {
          "output_type": "stream",
          "name": "stdout",
          "text": [
            "                   A         B         C         D\n",
            "2021-01-01  0.500424  0.325118  0.046170  0.000622\n",
            "2021-01-02  0.506175  0.425782  0.166103  0.168153\n",
            "2021-01-03  0.489965  0.949177  0.816972  0.332608\n",
            "2021-01-04  0.637429  0.006638  0.239785  0.312228\n",
            "2021-01-05  0.744388  0.246827  0.208101  0.329308\n",
            "2021-01-06  0.474630  0.743730  0.786387  0.826959\n",
            " \n",
            "                   A         B\n",
            "2021-01-01  0.500424  0.325118\n",
            "2021-01-02  0.506175  0.425782\n",
            "2021-01-03  0.489965  0.949177\n",
            " \n",
            "                   A         B         C         D\n",
            "2021-01-03  0.489965  0.949177  0.816972  0.332608\n",
            " \n",
            "                   A         B         C         D\n",
            "2021-01-02  0.506175  0.425782  0.166103  0.168153\n",
            "2021-01-03  0.489965  0.949177  0.816972  0.332608\n",
            "2021-01-04  0.637429  0.006638  0.239785  0.312228\n",
            "2021-01-05  0.744388  0.246827  0.208101  0.329308\n",
            " \n",
            "                   A         C\n",
            "2021-01-01  0.500424  0.046170\n",
            "2021-01-02  0.506175  0.166103\n",
            "2021-01-04  0.637429  0.239785\n"
          ]
        }
      ]
    }
  ]
}