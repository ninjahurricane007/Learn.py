{
  "nbformat": 4,
  "nbformat_minor": 0,
  "metadata": {
    "colab": {
      "name": "TASK  7.ipynb",
      "provenance": [],
      "include_colab_link": true
    },
    "kernelspec": {
      "name": "python3",
      "display_name": "Python 3"
    },
    "language_info": {
      "name": "python"
    }
  },
  "cells": [
    {
      "cell_type": "markdown",
      "metadata": {
        "id": "view-in-github",
        "colab_type": "text"
      },
      "source": [
        "<a href=\"https://colab.research.google.com/github/ninjahurricane007/Learn.py/blob/main/TASK%207.ipynb\" target=\"_parent\"><img src=\"https://colab.research.google.com/assets/colab-badge.svg\" alt=\"Open In Colab\"/></a>"
      ]
    },
    {
      "cell_type": "markdown",
      "metadata": {
        "id": "b0V3vwzcydKy"
      },
      "source": [
        "1. Write a program to check whether a  string is palindrome or not using functions. \n",
        "\n",
        "   ( A function is to be created to check whether the string is palindrome and it should give the output true or false to the main program)"
      ]
    },
    {
      "cell_type": "code",
      "metadata": {
        "id": "M2Mi7EOdyxiu",
        "outputId": "6cc4d03e-2422-425c-85bb-08bbc6a6073c",
        "colab": {
          "base_uri": "https://localhost:8080/"
        }
      },
      "source": [
        "#please enter the code below this line.\n",
        "def fun(s):\n",
        "  string=s[::-1]\n",
        "  if s==string:\n",
        "    print(\"Palindrome\")\n",
        "  else:\n",
        "    print(\"Not Palindrome\")\n",
        "s=str(input())\n",
        "fun(s)"
      ],
      "execution_count": 5,
      "outputs": [
        {
          "output_type": "stream",
          "text": [
            "malayalam\n",
            "Palindrome\n"
          ],
          "name": "stdout"
        }
      ]
    },
    {
      "cell_type": "markdown",
      "metadata": {
        "id": "vSiShTyOzEz-"
      },
      "source": [
        "2.  Write a menu driven program to find largest element in L, smallest element, avg of all values, sum of all values in L. All these operation should be performed in different functions and the result should be returned.\n",
        "\n",
        "\n",
        "      L=[23,24,11,90,1,41,9,99,28,56,72]"
      ]
    },
    {
      "cell_type": "code",
      "metadata": {
        "id": "fRtMIw_CzsmO",
        "outputId": "844d033c-213a-4524-b0ee-4e1195e4913e",
        "colab": {
          "base_uri": "https://localhost:8080/"
        }
      },
      "source": [
        "#please enter the code below this line.\n",
        "def large():\n",
        "  l=L[0]\n",
        "  for i in range(len(L)-1):\n",
        "    if L[i]>l:\n",
        "      l=L[i]\n",
        "  print(l)\n",
        "def small():\n",
        "  s=L[0]\n",
        "  for i in range(len(L)-1):\n",
        "    if L[i]<s:\n",
        "      s=L[i]\n",
        "  print(s)\n",
        "def avg():\n",
        "  avg=0\n",
        "  s=0\n",
        "  for i in range(len(L)):\n",
        "    s=s+L[i]\n",
        "  avg=s/len(L)\n",
        "  print(avg)\n",
        "def sum():\n",
        "  sum=0\n",
        "  for i in range(len(L)):\n",
        "    sum=sum+L[i]\n",
        "  print(sum)\n",
        "L=[23,24,11,90,1,41,9,99,28,56,72]\n",
        "while True:\n",
        "  print(\"1.Largest Element 2.Smallest Element 3.Average 4.Sum 5.Exit\")\n",
        "  print(\"Enter the option number\")\n",
        "  n=int(input())\n",
        "  if n==1:\n",
        "    large()\n",
        "  elif n==2:\n",
        "    small()\n",
        "  elif n==3:\n",
        "    avg()\n",
        "  elif n==4:\n",
        "    sum()\n",
        "  elif n==5:\n",
        "    break\n",
        "  else:\n",
        "    print(\"Invalid Input\")\n",
        "  \n"
      ],
      "execution_count": 18,
      "outputs": [
        {
          "output_type": "stream",
          "text": [
            "1.Largest Element 2.Smallest Element 3.Average 4.Sum 5.Exit\n",
            "Enter the option number\n",
            "1\n",
            "99\n",
            "1.Largest Element 2.Smallest Element 3.Average 4.Sum 5.Exit\n",
            "Enter the option number\n",
            "2\n",
            "1\n",
            "1.Largest Element 2.Smallest Element 3.Average 4.Sum 5.Exit\n",
            "Enter the option number\n",
            "3\n",
            "41.27272727272727\n",
            "1.Largest Element 2.Smallest Element 3.Average 4.Sum 5.Exit\n",
            "Enter the option number\n",
            "4\n",
            "454\n",
            "1.Largest Element 2.Smallest Element 3.Average 4.Sum 5.Exit\n",
            "Enter the option number\n",
            "5\n"
          ],
          "name": "stdout"
        }
      ]
    }
  ]
}