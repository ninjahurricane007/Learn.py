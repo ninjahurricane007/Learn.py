{
  "nbformat": 4,
  "nbformat_minor": 0,
  "metadata": {
    "colab": {
      "name": "TASK 13.ipynb",
      "provenance": [],
      "include_colab_link": true
    },
    "kernelspec": {
      "name": "python3",
      "display_name": "Python 3"
    },
    "language_info": {
      "name": "python"
    }
  },
  "cells": [
    {
      "cell_type": "markdown",
      "metadata": {
        "id": "view-in-github",
        "colab_type": "text"
      },
      "source": [
        "<a href=\"https://colab.research.google.com/github/ninjahurricane007/Learn.py/blob/main/TASK%2013.ipynb\" target=\"_parent\"><img src=\"https://colab.research.google.com/assets/colab-badge.svg\" alt=\"Open In Colab\"/></a>"
      ]
    },
    {
      "cell_type": "markdown",
      "metadata": {
        "id": "RUSoRkrOqNwf"
      },
      "source": [
        "1. Create a 3x3 array values ranging from 0-8.Find the sum of the elements in this array."
      ]
    },
    {
      "cell_type": "code",
      "metadata": {
        "id": "t01ATYQpqq8u",
        "outputId": "7142a5a4-2dde-4b23-9170-ac4c503ca9cd",
        "colab": {
          "base_uri": "https://localhost:8080/"
        }
      },
      "source": [
        "#please enter your code below this line.\n",
        "import numpy as np\n",
        "a=np.arange(0,9).reshape(3,3)\n",
        "print(np.sum(a))"
      ],
      "execution_count": 2,
      "outputs": [
        {
          "output_type": "stream",
          "text": [
            "36\n"
          ],
          "name": "stdout"
        }
      ]
    },
    {
      "cell_type": "markdown",
      "metadata": {
        "id": "k3Y7nQF7r3IW"
      },
      "source": [
        "2. Create a 3x3 array values ranging from 0-8.Find the row sum and column sum of this array."
      ]
    },
    {
      "cell_type": "code",
      "metadata": {
        "id": "BzvIlWfvsICv",
        "outputId": "c8c42509-d2fe-43ca-8411-6763f911b4b4",
        "colab": {
          "base_uri": "https://localhost:8080/"
        }
      },
      "source": [
        "#please enter your code below this line.\n",
        "import numpy as np\n",
        "a=np.arange(0,9).reshape(3,3)\n",
        "print(np.sum(a, axis=0))\n",
        "print(np.sum(a, axis=1))\n"
      ],
      "execution_count": 3,
      "outputs": [
        {
          "output_type": "stream",
          "text": [
            "[ 9 12 15]\n",
            "[ 3 12 21]\n"
          ],
          "name": "stdout"
        }
      ]
    },
    {
      "cell_type": "markdown",
      "metadata": {
        "id": "KOPMsbnrsgue"
      },
      "source": [
        "3. Create a 4x4 array values ranging from 0-15. Now,\n",
        "\n",
        "    a) Find the mininmum value in the array.\n",
        "    \n",
        "    b) Find the maximum value in the array.\n",
        "\n",
        "    c) Find the mean of the values in the array."
      ]
    },
    {
      "cell_type": "code",
      "metadata": {
        "id": "1UzITxp3WDaW",
        "outputId": "ec9544a9-5036-4663-fdbe-33fce62b42ce",
        "colab": {
          "base_uri": "https://localhost:8080/"
        }
      },
      "source": [
        "#please enter your code belowthis line.\n",
        "import numpy as np\n",
        "a=np.arange(0,16).reshape(4,4)\n",
        "print(np.min(a))\n",
        "print(np.max(a))\n",
        "print(np.mean(a))\n"
      ],
      "execution_count": 4,
      "outputs": [
        {
          "output_type": "stream",
          "text": [
            "0\n",
            "15\n",
            "7.5\n"
          ],
          "name": "stdout"
        }
      ]
    },
    {
      "cell_type": "markdown",
      "metadata": {
        "id": "Pah9qGButoz2"
      },
      "source": [
        "4. Create an 10x10 array values ranging from 0-99.And ,\n",
        "\n",
        "    a) Print the 7th row.\n",
        "    \n",
        "    b) Print the rows from 4-8.\n",
        "\n",
        "    c) Print the value at the index 5,5.\n",
        "\n",
        "    d) Print the 5th colomn.\n",
        "\n",
        "    e) Print the columns from 2-5."
      ]
    },
    {
      "cell_type": "code",
      "metadata": {
        "id": "JFXPq0GkvhKi",
        "outputId": "bd7c46b6-8292-4cb6-cc0e-a7743ac28de0",
        "colab": {
          "base_uri": "https://localhost:8080/"
        }
      },
      "source": [
        "#please enter your code below this line.\n",
        "import numpy as np\n",
        "a=np.arange(0,100).reshape(10,10)\n",
        "print(a[7,:])\n",
        "print()\n",
        "print(a[4:9,:])\n",
        "print()\n",
        "print(a[5][5])\n",
        "print()\n",
        "print(a[ :,5])\n",
        "print()\n",
        "print(a[ :,2:6])\n"
      ],
      "execution_count": 21,
      "outputs": [
        {
          "output_type": "stream",
          "text": [
            "[70 71 72 73 74 75 76 77 78 79]\n",
            "\n",
            "[[40 41 42 43 44 45 46 47 48 49]\n",
            " [50 51 52 53 54 55 56 57 58 59]\n",
            " [60 61 62 63 64 65 66 67 68 69]\n",
            " [70 71 72 73 74 75 76 77 78 79]\n",
            " [80 81 82 83 84 85 86 87 88 89]]\n",
            "\n",
            "55\n",
            "\n",
            "[ 5 15 25 35 45 55 65 75 85 95]\n",
            "\n",
            "[[ 2  3  4  5]\n",
            " [12 13 14 15]\n",
            " [22 23 24 25]\n",
            " [32 33 34 35]\n",
            " [42 43 44 45]\n",
            " [52 53 54 55]\n",
            " [62 63 64 65]\n",
            " [72 73 74 75]\n",
            " [82 83 84 85]\n",
            " [92 93 94 95]]\n"
          ],
          "name": "stdout"
        }
      ]
    }
  ]
}