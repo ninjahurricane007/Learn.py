{
  "nbformat": 4,
  "nbformat_minor": 0,
  "metadata": {
    "colab": {
      "name": "TASK 17.ipynb",
      "provenance": [],
      "include_colab_link": true
    },
    "kernelspec": {
      "name": "python3",
      "display_name": "Python 3"
    },
    "language_info": {
      "name": "python"
    }
  },
  "cells": [
    {
      "cell_type": "markdown",
      "metadata": {
        "id": "view-in-github",
        "colab_type": "text"
      },
      "source": [
        "<a href=\"https://colab.research.google.com/github/ninjahurricane007/Learn.py/blob/main/TASK%2017.ipynb\" target=\"_parent\"><img src=\"https://colab.research.google.com/assets/colab-badge.svg\" alt=\"Open In Colab\"/></a>"
      ]
    },
    {
      "cell_type": "markdown",
      "metadata": {
        "id": "0SLapvpoaeYY"
      },
      "source": [
        "1. Create a DataFrame by passing a random numpy array,with a datetie index and labelled columns.and display its,\n",
        "     - Head\n",
        "     - Tail\n",
        "     - Index \n",
        "     - Columns\n",
        "     - Values\n",
        "     - statistics\n"
      ]
    },
    {
      "cell_type": "code",
      "metadata": {
        "id": "zJDkjyVxa5yU",
        "outputId": "aa31444c-050f-400c-cfd3-bad88affff9a",
        "colab": {
          "base_uri": "https://localhost:8080/"
        }
      },
      "source": [
        "#please type your answer below this line.\n",
        "import numpy as np\n",
        "import pandas as pd\n",
        "dates=pd.date_range(\"20210101\", periods=6)\n",
        "df=pd.DataFrame(np.random.randn(6,4), index=dates, columns=list('ABCD'))\n",
        "print(df)\n",
        "print(\" \")\n",
        "df.head(n=1), df.tail(n=1), df.index, df.columns, df.values, df.describe\n",
        "\n",
        "\n"
      ],
      "execution_count": 21,
      "outputs": [
        {
          "output_type": "stream",
          "name": "stdout",
          "text": [
            "                   A         B         C         D\n",
            "2021-01-01 -0.730380 -1.966710  0.241683  0.072223\n",
            "2021-01-02  0.226695 -0.329577 -1.287729  0.460557\n",
            "2021-01-03  0.993482  0.540179  0.069200  0.148041\n",
            "2021-01-04 -0.836950 -0.936301  1.559298  1.539653\n",
            "2021-01-05  1.040990  1.906652  0.593439 -0.681442\n",
            "2021-01-06 -0.603708  0.367965 -1.113134  0.998603\n",
            " \n"
          ]
        },
        {
          "output_type": "execute_result",
          "data": {
            "text/plain": [
              "(                  A        B         C         D\n",
              " 2021-01-01 -0.73038 -1.96671  0.241683  0.072223,\n",
              "                    A         B         C         D\n",
              " 2021-01-06 -0.603708  0.367965 -1.113134  0.998603,\n",
              " DatetimeIndex(['2021-01-01', '2021-01-02', '2021-01-03', '2021-01-04',\n",
              "                '2021-01-05', '2021-01-06'],\n",
              "               dtype='datetime64[ns]', freq='D'),\n",
              " Index(['A', 'B', 'C', 'D'], dtype='object'),\n",
              " array([[-0.73037981, -1.96670959,  0.24168295,  0.07222312],\n",
              "        [ 0.22669539, -0.32957695, -1.28772946,  0.46055741],\n",
              "        [ 0.99348187,  0.54017906,  0.06919962,  0.14804051],\n",
              "        [-0.83695019, -0.93630078,  1.55929799,  1.53965345],\n",
              "        [ 1.04099047,  1.90665248,  0.5934395 , -0.68144159],\n",
              "        [-0.6037084 ,  0.36796497, -1.11313442,  0.99860257]]),\n",
              " <bound method NDFrame.describe of                    A         B         C         D\n",
              " 2021-01-01 -0.730380 -1.966710  0.241683  0.072223\n",
              " 2021-01-02  0.226695 -0.329577 -1.287729  0.460557\n",
              " 2021-01-03  0.993482  0.540179  0.069200  0.148041\n",
              " 2021-01-04 -0.836950 -0.936301  1.559298  1.539653\n",
              " 2021-01-05  1.040990  1.906652  0.593439 -0.681442\n",
              " 2021-01-06 -0.603708  0.367965 -1.113134  0.998603>)"
            ]
          },
          "metadata": {},
          "execution_count": 21
        }
      ]
    },
    {
      "cell_type": "markdown",
      "metadata": {
        "id": "xnkA2mKDdyoO"
      },
      "source": [
        "2. Use the above table and,\n",
        "      - find transpose of your data.\n",
        "      - sort the index in the descending order of the date."
      ]
    },
    {
      "cell_type": "code",
      "metadata": {
        "id": "uqcQSEOufJ5P",
        "outputId": "92b521a7-8852-4158-c109-617431de3bca",
        "colab": {
          "base_uri": "https://localhost:8080/"
        }
      },
      "source": [
        "#please provide your answer below this line.\n",
        "import numpy as np\n",
        "import pandas as pd\n",
        "dates=pd.date_range(\"20210101\", periods=6)\n",
        "df=pd.DataFrame(np.random.randn(6,4), index=dates, columns=list('ABCD'))\n",
        "print(df)\n",
        "print(\" \")\n",
        "print(df.transpose())\n",
        "print(\" \")\n",
        "print(df.sort_index(ascending=False))"
      ],
      "execution_count": 25,
      "outputs": [
        {
          "output_type": "stream",
          "name": "stdout",
          "text": [
            "                   A         B         C         D\n",
            "2021-01-01 -1.232013 -1.032571  1.241938  0.864603\n",
            "2021-01-02 -1.069387  1.219297 -0.290067 -1.311877\n",
            "2021-01-03  0.635338 -1.081037 -1.674105  0.496077\n",
            "2021-01-04  1.057674 -0.988149  0.752576 -0.586675\n",
            "2021-01-05  0.802047  0.796335  2.508125  0.592172\n",
            "2021-01-06  1.692455 -0.847503 -2.253958 -0.003081\n",
            " \n",
            "   2021-01-01  2021-01-02  2021-01-03  2021-01-04  2021-01-05  2021-01-06\n",
            "A   -1.232013   -1.069387    0.635338    1.057674    0.802047    1.692455\n",
            "B   -1.032571    1.219297   -1.081037   -0.988149    0.796335   -0.847503\n",
            "C    1.241938   -0.290067   -1.674105    0.752576    2.508125   -2.253958\n",
            "D    0.864603   -1.311877    0.496077   -0.586675    0.592172   -0.003081\n",
            " \n",
            "                   A         B         C         D\n",
            "2021-01-06  1.692455 -0.847503 -2.253958 -0.003081\n",
            "2021-01-05  0.802047  0.796335  2.508125  0.592172\n",
            "2021-01-04  1.057674 -0.988149  0.752576 -0.586675\n",
            "2021-01-03  0.635338 -1.081037 -1.674105  0.496077\n",
            "2021-01-02 -1.069387  1.219297 -0.290067 -1.311877\n",
            "2021-01-01 -1.232013 -1.032571  1.241938  0.864603\n"
          ]
        }
      ]
    },
    {
      "cell_type": "markdown",
      "metadata": {
        "id": "ss7s_8iDbAcL"
      },
      "source": [
        ""
      ]
    }
  ]
}