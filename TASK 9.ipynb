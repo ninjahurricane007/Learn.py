{
  "nbformat": 4,
  "nbformat_minor": 0,
  "metadata": {
    "colab": {
      "name": "TASK 9.ipynb",
      "provenance": [],
      "include_colab_link": true
    },
    "kernelspec": {
      "name": "python3",
      "display_name": "Python 3"
    },
    "language_info": {
      "name": "python"
    }
  },
  "cells": [
    {
      "cell_type": "markdown",
      "metadata": {
        "id": "view-in-github",
        "colab_type": "text"
      },
      "source": [
        "<a href=\"https://colab.research.google.com/github/ninjahurricane007/Learn.py/blob/main/TASK%209.ipynb\" target=\"_parent\"><img src=\"https://colab.research.google.com/assets/colab-badge.svg\" alt=\"Open In Colab\"/></a>"
      ]
    },
    {
      "cell_type": "markdown",
      "metadata": {
        "id": "CBOQ3rFElEb0"
      },
      "source": [
        "1. Create an 4x4 array containing the values ranging from 0 - 15 (use arange function). Then ,\n",
        "  \n",
        "  a) split it equally along horizontal.\n",
        "\n",
        "  b) split it as 4 parts vertically.\n",
        "\n"
      ]
    },
    {
      "cell_type": "code",
      "metadata": {
        "id": "pKy4fjS_m3XD",
        "outputId": "708c93cd-fca7-4b2a-a5fb-a624f9ae3528",
        "colab": {
          "base_uri": "https://localhost:8080/"
        }
      },
      "source": [
        "#please provide your answer below this line\n",
        "import numpy as np\n",
        "a=np.arange(0,16).reshape(4,4)\n",
        "print(np.hsplit(a,2))\n",
        "print()\n",
        "print(np.vsplit(a,4))"
      ],
      "execution_count": 5,
      "outputs": [
        {
          "output_type": "stream",
          "text": [
            "[array([[ 0,  1],\n",
            "       [ 4,  5],\n",
            "       [ 8,  9],\n",
            "       [12, 13]]), array([[ 2,  3],\n",
            "       [ 6,  7],\n",
            "       [10, 11],\n",
            "       [14, 15]])]\n",
            "\n",
            "[array([[0, 1, 2, 3]]), array([[4, 5, 6, 7]]), array([[ 8,  9, 10, 11]]), array([[12, 13, 14, 15]])]\n"
          ],
          "name": "stdout"
        }
      ]
    },
    {
      "cell_type": "markdown",
      "metadata": {
        "id": "ORtqWRAeoMvn"
      },
      "source": [
        "2. Create a 3x3 matrix using random module and then,\n",
        "\n",
        "  a) Find the ceil of the matrix.\n",
        "  \n",
        "  b) Find the floor of the matrix."
      ]
    },
    {
      "cell_type": "code",
      "metadata": {
        "id": "kt_CO_v9qpU-",
        "outputId": "d52883b3-0e41-4799-a7f2-5d7b8a0e0f00",
        "colab": {
          "base_uri": "https://localhost:8080/"
        }
      },
      "source": [
        "#please provide your answer below this line\n",
        "import numpy as np\n",
        "a=np.random.rand(3,3)\n",
        "print(np.ceil(a))\n",
        "print()\n",
        "print(np.floor(a))"
      ],
      "execution_count": 11,
      "outputs": [
        {
          "output_type": "stream",
          "text": [
            "[[1. 1. 1.]\n",
            " [1. 1. 1.]\n",
            " [1. 1. 1.]]\n",
            "\n",
            "[[0. 0. 0.]\n",
            " [0. 0. 0.]\n",
            " [0. 0. 0.]]\n"
          ],
          "name": "stdout"
        }
      ]
    },
    {
      "cell_type": "markdown",
      "metadata": {
        "id": "oln9t19WqzBb"
      },
      "source": [
        "3. Create a random 1x4 array and print the random array and its shape.\n",
        "    \n",
        "      (use the shape function for finding the shape & use the same random we created here for both the below operations.)\n",
        "\n",
        "  a) Squeeze the random array and print the squeezed array and its shape.\n",
        "  b) Expand the random array by one axis and print the expanded array and its shape."
      ]
    },
    {
      "cell_type": "code",
      "metadata": {
        "id": "cbGGwRo3vpVX",
        "outputId": "3489a270-323f-4baf-d05c-5b055b007112",
        "colab": {
          "base_uri": "https://localhost:8080/"
        }
      },
      "source": [
        "#please provide your answer below this line.\n",
        "import numpy as np\n",
        "a=np.random.rand(1,4)\n",
        "print(a)\n",
        "print()\n",
        "print(a.shape)\n",
        "print()\n",
        "print(np.squeeze(a))\n",
        "print()\n",
        "print(np.squeeze(a).shape)\n",
        "print()\n",
        "print(np.expand_dims(a,axis=1))\n",
        "print()\n",
        "print(np.expand_dims(a,axis=1).shape)"
      ],
      "execution_count": 19,
      "outputs": [
        {
          "output_type": "stream",
          "text": [
            "[[0.1481521  0.75927271 0.59007905 0.02047794]]\n",
            "\n",
            "(1, 4)\n",
            "\n",
            "[0.1481521  0.75927271 0.59007905 0.02047794]\n",
            "\n",
            "(4,)\n",
            "\n",
            "[[[0.1481521  0.75927271 0.59007905 0.02047794]]]\n",
            "\n",
            "(1, 1, 4)\n"
          ],
          "name": "stdout"
        }
      ]
    }
  ]
}