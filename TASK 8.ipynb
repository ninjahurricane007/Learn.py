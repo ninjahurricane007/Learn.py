{
  "nbformat": 4,
  "nbformat_minor": 0,
  "metadata": {
    "colab": {
      "name": "TASK 8.ipynb",
      "provenance": [],
      "include_colab_link": true
    },
    "kernelspec": {
      "name": "python3",
      "display_name": "Python 3"
    },
    "language_info": {
      "name": "python"
    }
  },
  "cells": [
    {
      "cell_type": "markdown",
      "metadata": {
        "id": "view-in-github",
        "colab_type": "text"
      },
      "source": [
        "<a href=\"https://colab.research.google.com/github/ninjahurricane007/Learn.py/blob/main/TASK%208.ipynb\" target=\"_parent\"><img src=\"https://colab.research.google.com/assets/colab-badge.svg\" alt=\"Open In Colab\"/></a>"
      ]
    },
    {
      "cell_type": "markdown",
      "metadata": {
        "id": "slsGswYbJSo7"
      },
      "source": [
        "1. Generate a 3 x 3 matrix using random module."
      ]
    },
    {
      "cell_type": "code",
      "metadata": {
        "id": "GGRQSYyNJW9t",
        "outputId": "416e0f40-3420-46ff-c523-47ff3f7678af",
        "colab": {
          "base_uri": "https://localhost:8080/"
        }
      },
      "source": [
        "#please provide your answer below this line.\n",
        "import numpy as np\n",
        "print(np.random.rand(3,3))"
      ],
      "execution_count": 3,
      "outputs": [
        {
          "output_type": "stream",
          "text": [
            "[[0.19089337 0.17209699 0.65042646]\n",
            " [0.10525723 0.26735379 0.62418098]\n",
            " [0.40330698 0.9528592  0.60284937]]\n"
          ],
          "name": "stdout"
        }
      ]
    },
    {
      "cell_type": "markdown",
      "metadata": {
        "id": "4OB9KFX6JfYA"
      },
      "source": [
        "2. Generate two 4 x 4 matrix using numpy and \n",
        "\n",
        " a) Reshape it to 2 x 8matrix and vertically stack it.\n",
        "\n",
        " b) Reshape it to 2 x 8 matrix and horizontally stack it."
      ]
    },
    {
      "cell_type": "code",
      "metadata": {
        "id": "VoIqYeNWJ4H_",
        "outputId": "91925dde-10b9-4603-f667-646528818d32",
        "colab": {
          "base_uri": "https://localhost:8080/"
        }
      },
      "source": [
        "#please provide your answer below this line.\n",
        "import numpy as np\n",
        "a=np.random.rand(4,4)\n",
        "b=np.random.rand(4,4)\n",
        "c=np.reshape(a,(2,8))\n",
        "d=np.reshape(b,(2,8))\n",
        "print(np.vstack(c))\n",
        "print()\n",
        "print(np.hstack(d))"
      ],
      "execution_count": 10,
      "outputs": [
        {
          "output_type": "stream",
          "text": [
            "[[0.28009562 0.57853941 0.67102665 0.15798501 0.6079399  0.85317175\n",
            "  0.88195014 0.87864739]\n",
            " [0.46659799 0.86726998 0.13516781 0.9192095  0.22947075 0.01037837\n",
            "  0.5022217  0.52014199]]\n",
            "\n",
            "[0.52186003 0.17641206 0.09141566 0.50266135 0.80311668 0.30480028\n",
            " 0.36753086 0.39815671 0.09168259 0.91911152 0.21250984 0.67186647\n",
            " 0.18790726 0.18265987 0.11060304 0.7019024 ]\n"
          ],
          "name": "stdout"
        }
      ]
    }
  ]
}