{
  "nbformat": 4,
  "nbformat_minor": 0,
  "metadata": {
    "colab": {
      "name": "TASK 8.ipynb",
      "provenance": []
    },
    "kernelspec": {
      "name": "python3",
      "display_name": "Python 3"
    },
    "language_info": {
      "name": "python"
    }
  },
  "cells": [
    {
      "cell_type": "markdown",
      "metadata": {
        "id": "slsGswYbJSo7"
      },
      "source": [
        "1. Generate a 3 x 3 matrix using random module."
      ]
    },
    {
      "cell_type": "code",
      "metadata": {
        "id": "GGRQSYyNJW9t",
        "outputId": "ba6429b5-76a6-4fbd-a527-cd6e4ff6ed55",
        "colab": {
          "base_uri": "https://localhost:8080/"
        }
      },
      "source": [
        "#please provide your answer below this line.\n",
        "import numpy as np\n",
        "print(np.random.rand(3,3))"
      ],
      "execution_count": 1,
      "outputs": [
        {
          "output_type": "stream",
          "text": [
            "[[0.66022844 0.17046783 0.79398627]\n",
            " [0.42662366 0.67138109 0.91129733]\n",
            " [0.60255276 0.58422189 0.78304543]]\n"
          ],
          "name": "stdout"
        }
      ]
    },
    {
      "cell_type": "markdown",
      "metadata": {
        "id": "4OB9KFX6JfYA"
      },
      "source": [
        "2. Generate two 4 x 4 matrix using numpy and \n",
        "\n",
        " a) Reshape it to 2 x 8matrix and vertically stack it.\n",
        "\n",
        " b) Reshape it to 2 x 8 matrix and horizontally stack it."
      ]
    },
    {
      "cell_type": "code",
      "metadata": {
        "id": "VoIqYeNWJ4H_",
        "outputId": "9e4c75b6-343b-4d47-9d3e-dc7cd4f7d308",
        "colab": {
          "base_uri": "https://localhost:8080/"
        }
      },
      "source": [
        "#please provide your answer below this line.\n",
        "import numpy as np\n",
        "a=np.random.rand(4,4)\n",
        "b=np.random.rand(4,4)\n",
        "c=np.reshape(a,(2,8))\n",
        "d=np.reshape(b,(2,8))\n",
        "print(np.vstack((c,d)))\n",
        "print()\n",
        "print(np.hstack((c,d)))"
      ],
      "execution_count": 3,
      "outputs": [
        {
          "output_type": "stream",
          "text": [
            "[[0.88296699 0.65133213 0.74443187 0.05316849 0.31516231 0.56292544\n",
            "  0.59476785 0.18868536]\n",
            " [0.54701793 0.36895102 0.32104767 0.36188391 0.63617151 0.56966721\n",
            "  0.80477903 0.71757803]\n",
            " [0.06875733 0.96753354 0.23119232 0.82029752 0.07875969 0.92100128\n",
            "  0.29691171 0.92815486]\n",
            " [0.31634368 0.71587885 0.13798137 0.20367796 0.56517152 0.12057347\n",
            "  0.54587045 0.93257691]]\n",
            "\n",
            "[[0.88296699 0.65133213 0.74443187 0.05316849 0.31516231 0.56292544\n",
            "  0.59476785 0.18868536 0.06875733 0.96753354 0.23119232 0.82029752\n",
            "  0.07875969 0.92100128 0.29691171 0.92815486]\n",
            " [0.54701793 0.36895102 0.32104767 0.36188391 0.63617151 0.56966721\n",
            "  0.80477903 0.71757803 0.31634368 0.71587885 0.13798137 0.20367796\n",
            "  0.56517152 0.12057347 0.54587045 0.93257691]]\n"
          ],
          "name": "stdout"
        }
      ]
    }
  ]
}
