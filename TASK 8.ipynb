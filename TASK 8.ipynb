{
  "nbformat": 4,
  "nbformat_minor": 0,
  "metadata": {
    "colab": {
      "name": "TASK 8.ipynb",
      "provenance": [],
      "include_colab_link": true
    },
    "kernelspec": {
      "name": "python3",
      "display_name": "Python 3"
    },
    "language_info": {
      "name": "python"
    }
  },
  "cells": [
    {
      "cell_type": "markdown",
      "metadata": {
        "id": "view-in-github",
        "colab_type": "text"
      },
      "source": [
        "<a href=\"https://colab.research.google.com/github/ninjahurricane007/Learn.py/blob/main/TASK%208.ipynb\" target=\"_parent\"><img src=\"https://colab.research.google.com/assets/colab-badge.svg\" alt=\"Open In Colab\"/></a>"
      ]
    },
    {
      "cell_type": "markdown",
      "metadata": {
        "id": "slsGswYbJSo7"
      },
      "source": [
        "1. Generate a 3 x 3 matrix using random module."
      ]
    },
    {
      "cell_type": "code",
      "metadata": {
        "id": "GGRQSYyNJW9t",
        "outputId": "416e0f40-3420-46ff-c523-47ff3f7678af",
        "colab": {
          "base_uri": "https://localhost:8080/"
        }
      },
      "source": [
        "#please provide your answer below this line.\n",
        "import numpy as np\n",
        "print(np.random.rand(3,3))"
      ],
      "execution_count": 3,
      "outputs": [
        {
          "output_type": "stream",
          "text": [
            "[[0.19089337 0.17209699 0.65042646]\n",
            " [0.10525723 0.26735379 0.62418098]\n",
            " [0.40330698 0.9528592  0.60284937]]\n"
          ],
          "name": "stdout"
        }
      ]
    },
    {
      "cell_type": "markdown",
      "metadata": {
        "id": "4OB9KFX6JfYA"
      },
      "source": [
        "2. Generate two 4 x 4 matrix using numpy and \n",
        "\n",
        " a) Reshape it to 2 x 8matrix and vertically stack it.\n",
        "\n",
        " b) Reshape it to 2 x 8 matrix and horizontally stack it."
      ]
    },
    {
      "cell_type": "code",
      "metadata": {
        "id": "VoIqYeNWJ4H_",
        "outputId": "91925dde-10b9-4603-f667-646528818d32",
        "colab": {
          "base_uri": "https://localhost:8080/"
        }
      },
      "source": [
        "#please provide your answer below this line.\n",
        "import numpy as np\n",
        "a=np.random.rand(4,4)\n",
        "b=np.random.rand(4,4)\n",
        "c=np.reshape(a,(2,8))\n",
        "d=np.reshape(b,(2,8))\n",
        "print(np.vstack((c,d)))\n",
        "print()\n",
        "print(np.hstack((c,d)))"
      ],
      "execution_count": 10,
      "outputs": [
        {
          "output_type": "stream",
          "text": [
            "[[0.60930978 0.29723428 0.01530261 0.10270875 0.68139425 0.97644278\n",
            "  0.30933529 0.56697771]\n",
            " [0.43319107 0.15526615 0.24000042 0.98463231 0.32463007 0.65237307\n",
            "  0.66934185 0.38586567]\n",
            " [0.89449603 0.03772116 0.42168273 0.93175231 0.09518575 0.59070576\n",
            "  0.63736044 0.68232723]\n",
            " [0.17299238 0.95480594 0.87537703 0.0821925  0.40284912 0.14308143\n",
            "  0.92667821 0.11455245]]\n"
            "\n",
            "[[0.60930978 0.29723428 0.01530261 0.10270875 0.68139425 0.97644278\n",
            "  0.30933529 0.56697771 0.89449603 0.03772116 0.42168273 0.93175231\n",
            "  0.09518575 0.59070576 0.63736044 0.68232723]\n"
            " [0.43319107 0.15526615 0.24000042 0.98463231 0.32463007 0.65237307\n",
            "  0.66934185 0.38586567 0.17299238 0.95480594 0.87537703 0.0821925\n",
            "  0.40284912 0.14308143 0.92667821 0.11455245]]\n"
          ],
          "name": "stdout"
        }
      ]
    }
  ]
}
